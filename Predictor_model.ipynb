{
  "nbformat": 4,
  "nbformat_minor": 0,
  "metadata": {
    "colab": {
      "provenance": []
    },
    "kernelspec": {
      "name": "python3",
      "display_name": "Python 3"
    },
    "language_info": {
      "name": "python"
    }
  },
  "cells": [
    {
      "cell_type": "code",
      "execution_count": 35,
      "metadata": {
        "colab": {
          "base_uri": "https://localhost:8080/"
        },
        "id": "zSKT1GvecOhG",
        "outputId": "bd0cef7c-adca-4090-c4f2-7333c9a18ae5"
      },
      "outputs": [
        {
          "output_type": "stream",
          "name": "stdout",
          "text": [
            "Drive already mounted at /content/drive; to attempt to forcibly remount, call drive.mount(\"/content/drive\", force_remount=True).\n"
          ]
        }
      ],
      "source": [
        "import os\n",
        "from google.colab import drive\n",
        "drive.mount('/content/drive')"
      ]
    },
    {
      "cell_type": "code",
      "source": [
        "cd 'drive/MyDrive/projetFinalMS2-DIC2GIT/'"
      ],
      "metadata": {
        "colab": {
          "base_uri": "https://localhost:8080/"
        },
        "id": "2_-U45QLcj6m",
        "outputId": "231ba2a9-b6ae-48f3-ee00-4d3cdd2b162e"
      },
      "execution_count": 36,
      "outputs": [
        {
          "output_type": "stream",
          "name": "stdout",
          "text": [
            "[Errno 2] No such file or directory: 'drive/MyDrive/projetFinalMS2-DIC2GIT/'\n",
            "/content/drive/MyDrive/projetFinalMS2-DIC2GIT\n"
          ]
        }
      ]
    },
    {
      "cell_type": "code",
      "source": [
        "import pandas as pd\n",
        "import numpy as np\n",
        "#####for plot#######\n",
        "from matplotlib import pyplot\n",
        "import seaborn as sns\n",
        "import datetime\n",
        "###for the model#############\n",
        "from sklearn.ensemble import RandomForestRegressor\n",
        "from sklearn.metrics import mean_squared_error\n",
        "from sklearn.model_selection import train_test_split, GridSearchCV, learning_curve\n",
        "from sklearn.preprocessing import scale\n",
        "from sklearn import set_config "
      ],
      "metadata": {
        "id": "R4XzHX-ylJr_"
      },
      "execution_count": 76,
      "outputs": []
    },
    {
      "cell_type": "code",
      "source": [
        "data = pd.read_csv(\"final_dataset.csv\",sep=\",\")"
      ],
      "metadata": {
        "colab": {
          "base_uri": "https://localhost:8080/"
        },
        "id": "kqyUoyb4lkcK",
        "outputId": "f1f8cf82-e85f-44ab-8449-bb59d4375f7c"
      },
      "execution_count": 38,
      "outputs": [
        {
          "output_type": "stream",
          "name": "stderr",
          "text": [
            "/usr/local/lib/python3.8/dist-packages/IPython/core/interactiveshell.py:3326: DtypeWarning: Columns (0,1,2,3,4,5,6,7,8,9,10,11,12,13) have mixed types.Specify dtype option on import or set low_memory=False.\n",
            "  exec(code_obj, self.user_global_ns, self.user_ns)\n"
          ]
        }
      ]
    },
    {
      "cell_type": "code",
      "source": [
        "data.head()"
      ],
      "metadata": {
        "colab": {
          "base_uri": "https://localhost:8080/",
          "height": 206
        },
        "id": "8Rjn56ZRmYbx",
        "outputId": "0bd37dd6-03c3-4442-f379-c1c1b8267a07"
      },
      "execution_count": 39,
      "outputs": [
        {
          "output_type": "execute_result",
          "data": {
            "text/plain": [
              "  CustomerType ArrivalTime QueueSize wl_30175 wl_30560 wl_30172 wl_30181  \\\n",
              "0        30175    115401.0         0        0        0        0        0   \n",
              "1        30560    115477.0         0        0        0        0        0   \n",
              "2        30175    115687.0         0        0        0        0        0   \n",
              "3        30175    115758.0         0        0        0        0        0   \n",
              "4        30175    115750.0         0        0        0        0        0   \n",
              "\n",
              "  wl_30179 wl_30066 wl_30241 wl_others NbAgents  LES WaitingTime  \n",
              "0        0        0        0         0        0  0.0         0.0  \n",
              "1        0        0        0         0        1  0.0         0.0  \n",
              "2        0        0        0         0        2  0.0         0.0  \n",
              "3        0        0        0         0        5  0.0         0.0  \n",
              "4        0        0        0         0        4  0.0         0.0  "
            ],
            "text/html": [
              "\n",
              "  <div id=\"df-0eccfcf0-994e-4583-971b-5e5e71a34692\">\n",
              "    <div class=\"colab-df-container\">\n",
              "      <div>\n",
              "<style scoped>\n",
              "    .dataframe tbody tr th:only-of-type {\n",
              "        vertical-align: middle;\n",
              "    }\n",
              "\n",
              "    .dataframe tbody tr th {\n",
              "        vertical-align: top;\n",
              "    }\n",
              "\n",
              "    .dataframe thead th {\n",
              "        text-align: right;\n",
              "    }\n",
              "</style>\n",
              "<table border=\"1\" class=\"dataframe\">\n",
              "  <thead>\n",
              "    <tr style=\"text-align: right;\">\n",
              "      <th></th>\n",
              "      <th>CustomerType</th>\n",
              "      <th>ArrivalTime</th>\n",
              "      <th>QueueSize</th>\n",
              "      <th>wl_30175</th>\n",
              "      <th>wl_30560</th>\n",
              "      <th>wl_30172</th>\n",
              "      <th>wl_30181</th>\n",
              "      <th>wl_30179</th>\n",
              "      <th>wl_30066</th>\n",
              "      <th>wl_30241</th>\n",
              "      <th>wl_others</th>\n",
              "      <th>NbAgents</th>\n",
              "      <th>LES</th>\n",
              "      <th>WaitingTime</th>\n",
              "    </tr>\n",
              "  </thead>\n",
              "  <tbody>\n",
              "    <tr>\n",
              "      <th>0</th>\n",
              "      <td>30175</td>\n",
              "      <td>115401.0</td>\n",
              "      <td>0</td>\n",
              "      <td>0</td>\n",
              "      <td>0</td>\n",
              "      <td>0</td>\n",
              "      <td>0</td>\n",
              "      <td>0</td>\n",
              "      <td>0</td>\n",
              "      <td>0</td>\n",
              "      <td>0</td>\n",
              "      <td>0</td>\n",
              "      <td>0.0</td>\n",
              "      <td>0.0</td>\n",
              "    </tr>\n",
              "    <tr>\n",
              "      <th>1</th>\n",
              "      <td>30560</td>\n",
              "      <td>115477.0</td>\n",
              "      <td>0</td>\n",
              "      <td>0</td>\n",
              "      <td>0</td>\n",
              "      <td>0</td>\n",
              "      <td>0</td>\n",
              "      <td>0</td>\n",
              "      <td>0</td>\n",
              "      <td>0</td>\n",
              "      <td>0</td>\n",
              "      <td>1</td>\n",
              "      <td>0.0</td>\n",
              "      <td>0.0</td>\n",
              "    </tr>\n",
              "    <tr>\n",
              "      <th>2</th>\n",
              "      <td>30175</td>\n",
              "      <td>115687.0</td>\n",
              "      <td>0</td>\n",
              "      <td>0</td>\n",
              "      <td>0</td>\n",
              "      <td>0</td>\n",
              "      <td>0</td>\n",
              "      <td>0</td>\n",
              "      <td>0</td>\n",
              "      <td>0</td>\n",
              "      <td>0</td>\n",
              "      <td>2</td>\n",
              "      <td>0.0</td>\n",
              "      <td>0.0</td>\n",
              "    </tr>\n",
              "    <tr>\n",
              "      <th>3</th>\n",
              "      <td>30175</td>\n",
              "      <td>115758.0</td>\n",
              "      <td>0</td>\n",
              "      <td>0</td>\n",
              "      <td>0</td>\n",
              "      <td>0</td>\n",
              "      <td>0</td>\n",
              "      <td>0</td>\n",
              "      <td>0</td>\n",
              "      <td>0</td>\n",
              "      <td>0</td>\n",
              "      <td>5</td>\n",
              "      <td>0.0</td>\n",
              "      <td>0.0</td>\n",
              "    </tr>\n",
              "    <tr>\n",
              "      <th>4</th>\n",
              "      <td>30175</td>\n",
              "      <td>115750.0</td>\n",
              "      <td>0</td>\n",
              "      <td>0</td>\n",
              "      <td>0</td>\n",
              "      <td>0</td>\n",
              "      <td>0</td>\n",
              "      <td>0</td>\n",
              "      <td>0</td>\n",
              "      <td>0</td>\n",
              "      <td>0</td>\n",
              "      <td>4</td>\n",
              "      <td>0.0</td>\n",
              "      <td>0.0</td>\n",
              "    </tr>\n",
              "  </tbody>\n",
              "</table>\n",
              "</div>\n",
              "      <button class=\"colab-df-convert\" onclick=\"convertToInteractive('df-0eccfcf0-994e-4583-971b-5e5e71a34692')\"\n",
              "              title=\"Convert this dataframe to an interactive table.\"\n",
              "              style=\"display:none;\">\n",
              "        \n",
              "  <svg xmlns=\"http://www.w3.org/2000/svg\" height=\"24px\"viewBox=\"0 0 24 24\"\n",
              "       width=\"24px\">\n",
              "    <path d=\"M0 0h24v24H0V0z\" fill=\"none\"/>\n",
              "    <path d=\"M18.56 5.44l.94 2.06.94-2.06 2.06-.94-2.06-.94-.94-2.06-.94 2.06-2.06.94zm-11 1L8.5 8.5l.94-2.06 2.06-.94-2.06-.94L8.5 2.5l-.94 2.06-2.06.94zm10 10l.94 2.06.94-2.06 2.06-.94-2.06-.94-.94-2.06-.94 2.06-2.06.94z\"/><path d=\"M17.41 7.96l-1.37-1.37c-.4-.4-.92-.59-1.43-.59-.52 0-1.04.2-1.43.59L10.3 9.45l-7.72 7.72c-.78.78-.78 2.05 0 2.83L4 21.41c.39.39.9.59 1.41.59.51 0 1.02-.2 1.41-.59l7.78-7.78 2.81-2.81c.8-.78.8-2.07 0-2.86zM5.41 20L4 18.59l7.72-7.72 1.47 1.35L5.41 20z\"/>\n",
              "  </svg>\n",
              "      </button>\n",
              "      \n",
              "  <style>\n",
              "    .colab-df-container {\n",
              "      display:flex;\n",
              "      flex-wrap:wrap;\n",
              "      gap: 12px;\n",
              "    }\n",
              "\n",
              "    .colab-df-convert {\n",
              "      background-color: #E8F0FE;\n",
              "      border: none;\n",
              "      border-radius: 50%;\n",
              "      cursor: pointer;\n",
              "      display: none;\n",
              "      fill: #1967D2;\n",
              "      height: 32px;\n",
              "      padding: 0 0 0 0;\n",
              "      width: 32px;\n",
              "    }\n",
              "\n",
              "    .colab-df-convert:hover {\n",
              "      background-color: #E2EBFA;\n",
              "      box-shadow: 0px 1px 2px rgba(60, 64, 67, 0.3), 0px 1px 3px 1px rgba(60, 64, 67, 0.15);\n",
              "      fill: #174EA6;\n",
              "    }\n",
              "\n",
              "    [theme=dark] .colab-df-convert {\n",
              "      background-color: #3B4455;\n",
              "      fill: #D2E3FC;\n",
              "    }\n",
              "\n",
              "    [theme=dark] .colab-df-convert:hover {\n",
              "      background-color: #434B5C;\n",
              "      box-shadow: 0px 1px 3px 1px rgba(0, 0, 0, 0.15);\n",
              "      filter: drop-shadow(0px 1px 2px rgba(0, 0, 0, 0.3));\n",
              "      fill: #FFFFFF;\n",
              "    }\n",
              "  </style>\n",
              "\n",
              "      <script>\n",
              "        const buttonEl =\n",
              "          document.querySelector('#df-0eccfcf0-994e-4583-971b-5e5e71a34692 button.colab-df-convert');\n",
              "        buttonEl.style.display =\n",
              "          google.colab.kernel.accessAllowed ? 'block' : 'none';\n",
              "\n",
              "        async function convertToInteractive(key) {\n",
              "          const element = document.querySelector('#df-0eccfcf0-994e-4583-971b-5e5e71a34692');\n",
              "          const dataTable =\n",
              "            await google.colab.kernel.invokeFunction('convertToInteractive',\n",
              "                                                     [key], {});\n",
              "          if (!dataTable) return;\n",
              "\n",
              "          const docLinkHtml = 'Like what you see? Visit the ' +\n",
              "            '<a target=\"_blank\" href=https://colab.research.google.com/notebooks/data_table.ipynb>data table notebook</a>'\n",
              "            + ' to learn more about interactive tables.';\n",
              "          element.innerHTML = '';\n",
              "          dataTable['output_type'] = 'display_data';\n",
              "          await google.colab.output.renderOutput(dataTable, element);\n",
              "          const docLink = document.createElement('div');\n",
              "          docLink.innerHTML = docLinkHtml;\n",
              "          element.appendChild(docLink);\n",
              "        }\n",
              "      </script>\n",
              "    </div>\n",
              "  </div>\n",
              "  "
            ]
          },
          "metadata": {},
          "execution_count": 39
        }
      ]
    },
    {
      "cell_type": "code",
      "source": [
        "data.shape"
      ],
      "metadata": {
        "colab": {
          "base_uri": "https://localhost:8080/"
        },
        "id": "yIwW01osmwas",
        "outputId": "d081d889-c14c-4c95-af8a-1313189ce05e"
      },
      "execution_count": 40,
      "outputs": [
        {
          "output_type": "execute_result",
          "data": {
            "text/plain": [
              "(1463414, 14)"
            ]
          },
          "metadata": {},
          "execution_count": 40
        }
      ]
    },
    {
      "cell_type": "markdown",
      "source": [
        "Nous avons un dataset de 1 463 414 lignes et 14 colonnes."
      ],
      "metadata": {
        "id": "JVDiKVIUiG-E"
      }
    },
    {
      "cell_type": "code",
      "source": [
        "data.isnull().sum()"
      ],
      "metadata": {
        "colab": {
          "base_uri": "https://localhost:8080/"
        },
        "id": "hXr2FiLNmyIk",
        "outputId": "1bbcc957-e8f2-4a73-d794-ab31b516d12d"
      },
      "execution_count": 41,
      "outputs": [
        {
          "output_type": "execute_result",
          "data": {
            "text/plain": [
              "CustomerType    0\n",
              "ArrivalTime     0\n",
              "QueueSize       0\n",
              "wl_30175        0\n",
              "wl_30560        0\n",
              "wl_30172        0\n",
              "wl_30181        0\n",
              "wl_30179        0\n",
              "wl_30066        0\n",
              "wl_30241        0\n",
              "wl_others       0\n",
              "NbAgents        0\n",
              "LES             0\n",
              "WaitingTime     0\n",
              "dtype: int64"
            ]
          },
          "metadata": {},
          "execution_count": 41
        }
      ]
    },
    {
      "cell_type": "markdown",
      "source": [
        "il n'ya pas de données manquantes dans nos données."
      ],
      "metadata": {
        "id": "Tq1V_bf4iT8U"
      }
    },
    {
      "cell_type": "code",
      "source": [
        "data.nunique()"
      ],
      "metadata": {
        "colab": {
          "base_uri": "https://localhost:8080/"
        },
        "id": "L7CxustMVJ-l",
        "outputId": "14cd4933-94be-4d60-ec67-71de357a5ed9"
      },
      "execution_count": 42,
      "outputs": [
        {
          "output_type": "execute_result",
          "data": {
            "text/plain": [
              "CustomerType        48\n",
              "ArrivalTime     947480\n",
              "QueueSize          165\n",
              "wl_30175           167\n",
              "wl_30560            87\n",
              "wl_30172            62\n",
              "wl_30181           105\n",
              "wl_30179            29\n",
              "wl_30066            19\n",
              "wl_30241            14\n",
              "wl_others           32\n",
              "NbAgents           272\n",
              "LES               1530\n",
              "WaitingTime       1772\n",
              "dtype: int64"
            ]
          },
          "metadata": {},
          "execution_count": 42
        }
      ]
    },
    {
      "cell_type": "code",
      "source": [
        "data = data.loc[data.CustomerType != 'CustomerType']"
      ],
      "metadata": {
        "id": "187QZCyAWL70"
      },
      "execution_count": 43,
      "outputs": []
    },
    {
      "cell_type": "code",
      "source": [
        "a4_dims = (22.7, 8.27)\n",
        "fig, ax = pyplot.subplots(figsize=a4_dims)\n",
        "sns.countplot(data.CustomerType)"
      ],
      "metadata": {
        "colab": {
          "base_uri": "https://localhost:8080/",
          "height": 576
        },
        "id": "hami-60SVTP1",
        "outputId": "05c0646e-c478-4757-ca1a-24978f48daa6"
      },
      "execution_count": 44,
      "outputs": [
        {
          "output_type": "stream",
          "name": "stderr",
          "text": [
            "/usr/local/lib/python3.8/dist-packages/seaborn/_decorators.py:36: FutureWarning: Pass the following variable as a keyword arg: x. From version 0.12, the only valid positional argument will be `data`, and passing other arguments without an explicit keyword will result in an error or misinterpretation.\n",
            "  warnings.warn(\n"
          ]
        },
        {
          "output_type": "execute_result",
          "data": {
            "text/plain": [
              "<matplotlib.axes._subplots.AxesSubplot at 0x7fe075af0fa0>"
            ]
          },
          "metadata": {},
          "execution_count": 44
        },
        {
          "output_type": "display_data",
          "data": {
            "text/plain": [
              "<Figure size 1634.4x595.44 with 1 Axes>"
            ],
            "image/png": "[encoded data removed]"
          },
          "metadata": {
            "needs_background": "light"
          }
        }
      ]
    },
    {
      "cell_type": "markdown",
      "source": [
        "Traçons l'evolution de la longueur des queues en fonction des arrivées"
      ],
      "metadata": {
        "id": "xHALJ35jhk90"
      }
    },
    {
      "cell_type": "code",
      "source": [
        "a4_dims = (11.7, 8.27)\n",
        "fig, ax = pyplot.subplots(figsize=a4_dims)\n",
        "pyplot.plot(data['ArrivalTime'],data['QueueSize'])"
      ],
      "metadata": {
        "colab": {
          "base_uri": "https://localhost:8080/",
          "height": 528
        },
        "id": "ZqjikhGsVTFc",
        "outputId": "72cf6347-d223-4845-e85d-9ba8746fb628"
      },
      "execution_count": 49,
      "outputs": [
        {
          "output_type": "execute_result",
          "data": {
            "text/plain": [
              "[<matplotlib.lines.Line2D at 0x7fe06c8e6e80>]"
            ]
          },
          "metadata": {},
          "execution_count": 49
        },
        {
          "output_type": "display_data",
          "data": {
            "text/plain": [
              "<Figure size 842.4x595.44 with 1 Axes>"
            ],
            "image/png": "[encoded data removed]"
          },
          "metadata": {
            "needs_background": "light"
          }
        }
      ]
    },
    {
      "cell_type": "code",
      "source": [
        "X = data.loc[:, data.columns != 'WaitingTime'].values\n",
        "y = data.WaitingTime.values"
      ],
      "metadata": {
        "id": "7VSgfjJ-h8Hg"
      },
      "execution_count": 56,
      "outputs": []
    },
    {
      "cell_type": "code",
      "source": [
        "X = scale(X)\n",
        "y = scale(y)\n",
        "xtrain, xtest, ytrain, ytest=train_test_split(X, y, test_size=0.20)"
      ],
      "metadata": {
        "id": "Irlq2PFekRKp"
      },
      "execution_count": 60,
      "outputs": []
    },
    {
      "cell_type": "code",
      "source": [
        "set_config(print_changed_only=False) \n",
        "rfr = RandomForestRegressor(max_depth=25,random_state=42)\n",
        "print(rfr)"
      ],
      "metadata": {
        "colab": {
          "base_uri": "https://localhost:8080/"
        },
        "id": "OJT6-AwxoaN5",
        "outputId": "48b8eca4-2dc5-47c4-c23e-3d44a37c8846"
      },
      "execution_count": 70,
      "outputs": [
        {
          "output_type": "stream",
          "name": "stdout",
          "text": [
            "RandomForestRegressor(bootstrap=True, ccp_alpha=0.0, criterion='squared_error',\n",
            "                      max_depth=25, max_features='auto', max_leaf_nodes=None,\n",
            "                      max_samples=None, min_impurity_decrease=0.0,\n",
            "                      min_samples_leaf=1, min_samples_split=2,\n",
            "                      min_weight_fraction_leaf=0.0, n_estimators=100,\n",
            "                      n_jobs=None, oob_score=False, random_state=42, verbose=0,\n",
            "                      warm_start=False)\n"
          ]
        }
      ]
    },
    {
      "cell_type": "code",
      "source": [
        "rfr.fit(xtrain, ytrain)\n",
        "\n",
        "score = rfr.score(xtrain, ytrain)\n",
        "print(\"R-squared:\", score) "
      ],
      "metadata": {
        "colab": {
          "base_uri": "https://localhost:8080/"
        },
        "id": "uNu1z-nGoip1",
        "outputId": "69ee1ffc-ec1f-4126-a2e3-ee1faa1d8114"
      },
      "execution_count": 71,
      "outputs": [
        {
          "output_type": "stream",
          "name": "stdout",
          "text": [
            "R-squared: 0.9922644593924798\n"
          ]
        }
      ]
    },
    {
      "cell_type": "code",
      "source": [
        "ypred = rfr.predict(xtest)\n",
        "\n",
        "mse = mean_squared_error(ytest, ypred)\n",
        "print(\"MSE: \", mse)\n",
        "print(\"RMSE: \", mse*(1/2.0)) "
      ],
      "metadata": {
        "colab": {
          "base_uri": "https://localhost:8080/"
        },
        "id": "WTPg5vJmosMm",
        "outputId": "745d9b46-c3a3-4ed4-e9d6-a1e8d6902a84"
      },
      "execution_count": 73,
      "outputs": [
        {
          "output_type": "stream",
          "name": "stdout",
          "text": [
            "MSE:  0.04350740701369126\n",
            "RMSE:  0.02175370350684563\n"
          ]
        }
      ]
    },
    {
      "cell_type": "code",
      "source": [
        "x_ax = range(len(ytest))\n",
        "pyplot.plot(x_ax, ytest, linewidth=1, label=\"original\")\n",
        "pyplot.plot(x_ax, ypred, linewidth=1.1, label=\"predicted\")\n",
        "pyplot.title(\"y-test and y-predicted data\")\n",
        "pyplot.xlabel('X-axis')\n",
        "pyplot.ylabel('Y-axis')\n",
        "pyplot.legend(loc='best',fancybox=True, shadow=True)\n",
        "pyplot.grid(True)\n",
        "pyplot.show()"
      ],
      "metadata": {
        "colab": {
          "base_uri": "https://localhost:8080/",
          "height": 295
        },
        "id": "g1_eekHgvy-Y",
        "outputId": "8ee13fda-842e-42bc-9745-b3bb39329362"
      },
      "execution_count": 74,
      "outputs": [
        {
          "output_type": "display_data",
          "data": {
            "text/plain": [
              "<Figure size 432x288 with 1 Axes>"
            ],
            "image/png": "[encoded data removed]"
          },
          "metadata": {
            "needs_background": "light"
          }
        }
      ]
    },
    {
      "cell_type": "code",
      "source": [],
      "metadata": {
        "id": "GG1PKIHZKEDP"
      },
      "execution_count": null,
      "outputs": []
    }
  ]
}